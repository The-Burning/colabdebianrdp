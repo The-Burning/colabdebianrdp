{
  "nbformat": 4,
  "nbformat_minor": 0,
  "metadata": {
    "colab": {
      "name": "Untitled0.ipynb",
      "provenance": [],
      "collapsed_sections": [],
      "authorship_tag": "ABX9TyOh41rhKugl2UqF4kStEsPr",
      "include_colab_link": true
    },
    "kernelspec": {
      "name": "python3",
      "display_name": "Python 3"
    },
    "language_info": {
      "name": "python"
    }
  },
  "cells": [
    {
      "cell_type": "markdown",
      "metadata": {
        "id": "view-in-github",
        "colab_type": "text"
      },
      "source": [
        "<a href=\"https://colab.research.google.com/github/The-Burning/colabdebianrdp/blob/main/Colabdebianrdp1.ipynb\" target=\"_parent\"><img src=\"https://colab.research.google.com/assets/colab-badge.svg\" alt=\"Open In Colab\"/></a>"
      ]
    },
    {
      "cell_type": "code",
      "source": [
        "import os\n",
        "\n",
        "username = \"Ankit\" #@param {type:\"string\"}\n",
        "password = \"2005\" #@param {type:\"string\"}\n",
        "\n",
        "print(\"Creating User and Setting it up\")\n",
        "\n",
        "# Creation of user\n",
        "os.system(f\"useradd -m {username}\")\n",
        "\n",
        "# Add user to sudo group\n",
        "os.system(f\"adduser {username} sudo\")\n",
        "    \n",
        "# Set password of user to 'root'\n",
        "os.system(f\"echo '{username}:{password}' | sudo chpasswd\")\n",
        "\n",
        "# Change default shell from sh to bash\n",
        "os.system(\"sed -i 's/\\/bin\\/sh/\\/bin\\/bash/g' /etc/passwd\")\n",
        "\n",
        "print(f\"User created and configured having username `{username}` and password `{password}`\")\n",
        "\n",
        "\n"
      ],
      "metadata": {
        "colab": {
          "base_uri": "https://localhost:8080/"
        },
        "id": "YPKQPhftKRbK",
        "outputId": "8472413c-5af1-4eb3-f5ff-5d66ab87031a"
      },
      "execution_count": 1,
      "outputs": [
        {
          "output_type": "stream",
          "name": "stdout",
          "text": [
            "Creating User and Setting it up\n",
            "User created and configured having username `Ankit` and password `2005`\n"
          ]
        }
      ]
    },
    {
      "cell_type": "code",
      "source": [
        "#@title **Create User**\n",
        "#@markdown Enter Username and Password\n",
        "\n",
        "\n",
        "\n",
        "#@title **RDP**\n",
        "#@markdown  It takes 4-5 minutes for installation\n",
        "\n",
        "import os\n",
        "import subprocess\n",
        "\n",
        "#@markdown  Visit http://remotedesktop.google.com/headless and copy the command after Authentication\n",
        "\n",
        "CRP = \"DISPLAY= /opt/google/chrome-remote-desktop/start-host --code=\\\"4/0AX4XfWizT0-IlosHVpgHPA2zMIYpwXIGFldEorOhUrgldwG0iu2OQyUIs89_m4pLa_x_1g\\\" --redirect-url=\\\"https://remotedesktop.google.com/_/oauthredirect\\\" --name=$(hostname)\" #@param {type:\"string\"}\n",
        "\n",
        "#@markdown Enter a Pin (more or equal to 6 digits)\n",
        "Pin = 123456 #@param {type: \"integer\"}\n",
        "\n",
        "#@markdown Autostart Notebook in RDP\n",
        "Autostart = True #@param {type: \"boolean\"}\n",
        "\n",
        "\n",
        "class CRD:\n",
        "    def __init__(self, user):\n",
        "        os.system(\"apt update\")\n",
        "        self.installCRD()\n",
        "        self.installDesktopEnvironment()\n",
        "        self.installGoogleChorme()\n",
        "        self.finish(user)\n",
        "        print(\"\\nRDP created succesfully move to https://remotedesktop.google.com/access\")\n",
        "    @staticmethod\n",
        "    def installCRD():\n",
        "        print(\"Installing Chrome Remote Desktop\")\n",
        "        subprocess.run(['wget', 'https://dl.google.com/linux/direct/chrome-remote-desktop_current_amd64.deb'], stdout=subprocess.PIPE)\n",
        "        subprocess.run(['dpkg', '--install', 'chrome-remote-desktop_current_amd64.deb'], stdout=subprocess.PIPE)\n",
        "        subprocess.run(['apt', 'install', '--assume-yes', '--fix-broken'], stdout=subprocess.PIPE)\n",
        "\n",
        "    @staticmethod\n",
        "    def installDesktopEnvironment():\n",
        "        print(\"Installing Desktop Environment\")\n",
        "        os.system(\"export DEBIAN_FRONTEND=noninteractive\")\n",
        "        os.system(\"apt install --assume-yes xfce4 desktop-base xfce4-terminal\")\n",
        "        os.system(\"bash -c 'echo \\\"exec /etc/X11/Xsession /usr/bin/xfce4-session\\\" > /etc/chrome-remote-desktop-session'\")\n",
        "        os.system(\"apt remove --assume-yes gnome-terminal\")\n",
        "        os.system(\"apt install --assume-yes xscreensaver\")\n",
        "        os.system(\"systemctl disable lightdm.service\")\n",
        "\n",
        "    @staticmethod\n",
        "    def installGoogleChorme():\n",
        "        print(\"Installing Google Chrome\")\n",
        "        subprocess.run([\"wget\", \"https://dl.google.com/linux/direct/google-chrome-stable_current_amd64.deb\"], stdout=subprocess.PIPE)\n",
        "        subprocess.run([\"dpkg\", \"--install\", \"google-chrome-stable_current_amd64.deb\"], stdout=subprocess.PIPE)\n",
        "        subprocess.run(['apt', 'install', '--assume-yes', '--fix-broken'], stdout=subprocess.PIPE)\n",
        "    @staticmethod\n",
        "    def finish(user):\n",
        "        print(\"Finalizing\")\n",
        "        if Autostart:\n",
        "            os.makedirs(f\"/home/{user}/.config/autostart\", exist_ok=True)\n",
        "            link = \"https://github.com/The-Burning/\"\n",
        "            colab_autostart = \"\"\"[Desktop Entry]\n",
        "Type=Application\n",
        "Name=Colab\n",
        "Exec=sh -c \"sensible-browser {}\"\n",
        "Icon=\n",
        "Comment=Open a predefined notebook at session signin.\n",
        "X-GNOME-Autostart-enabled=true\"\"\".format(link)\n",
        "            with open(f\"/home/{user}/.config/autostart/colab.desktop\", \"w\") as f:\n",
        "                f.write(colab_autostart)\n",
        "            os.system(f\"chmod +x /home/{user}/.config/autostart/colab.desktop\")\n",
        "            os.system(f\"chown {user}:{user} /home/{user}/.config\")\n",
        "\n",
        "        os.system(f\"adduser {user} chrome-remote-desktop\")\n",
        "        command = f\"{CRP} --pin={Pin}\"\n",
        "        os.system(f\"su - {user} -c '{command}'\")\n",
        "        os.system(\"service chrome-remote-desktop start\")\n",
        "        \n",
        "\n",
        "        print(\"Finished Succesfully\")\n",
        "\n",
        "\n",
        "try:\n",
        "    if CRP == \"\":\n",
        "        print(\"Please enter authcode from the given link\")\n",
        "    elif len(str(Pin)) < 6:\n",
        "        print(\"Enter a pin more or equal to 6 digits\")\n",
        "    else:\n",
        "        CRD(username)\n",
        "except NameError as e:\n",
        "    print(\"'username' variable not found, Create a user first\")"
      ],
      "metadata": {
        "colab": {
          "base_uri": "https://localhost:8080/"
        },
        "id": "AOlFn7dqLOSB",
        "outputId": "13f23794-060a-4f72-a633-bf9febf9c036"
      },
      "execution_count": 2,
      "outputs": [
        {
          "output_type": "stream",
          "name": "stdout",
          "text": [
            "Installing Chrome Remote Desktop\n",
            "Installing Desktop Environment\n",
            "Installing Google Chrome\n",
            "Finalizing\n",
            "Finished Succesfully\n",
            "\n",
            "RDP created succesfully move to https://remotedesktop.google.com/access\n"
          ]
        }
      ]
    },
    {
      "cell_type": "code",
      "source": [
        "while True: pass"
      ],
      "metadata": {
        "id": "z2gMY5Tj_YCF"
      },
      "execution_count": null,
      "outputs": []
    }
  ]
}