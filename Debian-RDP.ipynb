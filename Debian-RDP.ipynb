{
  "nbformat": 4,
  "nbformat_minor": 0,
  "metadata": {
    "colab": {
      "name": "Untitled0.ipynb",
      "provenance": [],
      "collapsed_sections": [],
      "authorship_tag": "ABX9TyN2g+DqStOm/7Zp/R5FCAV4",
      "include_colab_link": true
    },
    "kernelspec": {
      "name": "python3",
      "display_name": "Python 3"
    },
    "language_info": {
      "name": "python"
    },
    "accelerator": "GPU"
  },
  "cells": [
    {
      "cell_type": "markdown",
      "metadata": {
        "id": "view-in-github",
        "colab_type": "text"
      },
      "source": [
        "<a href=\"https://colab.research.google.com/github/The-Burning/colabdebianrdp/blob/main/Debian-RDP.ipynb\" target=\"_parent\"><img src=\"https://colab.research.google.com/assets/colab-badge.svg\" alt=\"Open In Colab\"/></a>"
      ]
    },
    {
      "cell_type": "code",
      "execution_count": null,
      "metadata": {
        "colab": {
          "base_uri": "https://localhost:8080/"
        },
        "id": "gNioAJtlKIR8",
        "outputId": "a727029c-26ea-4493-e966-8f6f34ce1c67"
      },
      "outputs": [
        {
          "output_type": "stream",
          "name": "stdout",
          "text": [
            "Mon Jan 10 08:13:20 2022       \n",
            "+-----------------------------------------------------------------------------+\n",
            "| NVIDIA-SMI 495.44       Driver Version: 460.32.03    CUDA Version: 11.2     |\n",
            "|-------------------------------+----------------------+----------------------+\n",
            "| GPU  Name        Persistence-M| Bus-Id        Disp.A | Volatile Uncorr. ECC |\n",
            "| Fan  Temp  Perf  Pwr:Usage/Cap|         Memory-Usage | GPU-Util  Compute M. |\n",
            "|                               |                      |               MIG M. |\n",
            "|===============================+======================+======================|\n",
            "|   0  Tesla K80           Off  | 00000000:00:04.0 Off |                    0 |\n",
            "| N/A   31C    P8    30W / 149W |      0MiB / 11441MiB |      0%      Default |\n",
            "|                               |                      |                  N/A |\n",
            "+-------------------------------+----------------------+----------------------+\n",
            "                                                                               \n",
            "+-----------------------------------------------------------------------------+\n",
            "| Processes:                                                                  |\n",
            "|  GPU   GI   CI        PID   Type   Process name                  GPU Memory |\n",
            "|        ID   ID                                                   Usage      |\n",
            "|=============================================================================|\n",
            "|  No running processes found                                                 |\n",
            "+-----------------------------------------------------------------------------+\n"
          ]
        }
      ],
      "source": [
        "!nvidia-smi"
      ]
    },
    {
      "cell_type": "code",
      "source": [
        "import os\n",
        "\n",
        "username = \"Ankit\" #@param {type:\"string\"}\n",
        "password = \"2005\" #@param {type:\"string\"}\n",
        "\n",
        "print(\"Creating User and Setting it up\")\n",
        "\n",
        "# Creation of user\n",
        "os.system(f\"useradd -m {username}\")\n",
        "\n",
        "# Add user to sudo group\n",
        "os.system(f\"adduser {username} sudo\")\n",
        "    \n",
        "# Set password of user to 'root'\n",
        "os.system(f\"echo '{username}:{password}' | sudo chpasswd\")\n",
        "\n",
        "# Change default shell from sh to bash\n",
        "os.system(\"sed -i 's/\\/bin\\/sh/\\/bin\\/bash/g' /etc/passwd\")\n",
        "\n",
        "print(f\"User created and configured having username `{username}` and password `{password}`\")\n",
        "\n",
        "\n"
      ],
      "metadata": {
        "colab": {
          "base_uri": "https://localhost:8080/"
        },
        "id": "YPKQPhftKRbK",
        "outputId": "75e03729-25bc-4037-c39a-4dc334e1575d"
      },
      "execution_count": null,
      "outputs": [
        {
          "output_type": "stream",
          "name": "stdout",
          "text": [
            "Creating User and Setting it up\n",
            "User created and configured having username `Ankit` and password `2005`\n"
          ]
        }
      ]
    },
    {
      "cell_type": "code",
      "source": [
        "#@title **RDP**\n",
        "#@markdown  It takes 4-5 minutes for installation\n",
        "\n",
        "import os\n",
        "import subprocess\n",
        "\n",
        "#@markdown  Visit http://remotedesktop.google.com/headless and copy the command after Authentication\n",
        "\n",
        "CRP = \"DISPLAY= /opt/google/chrome-remote-desktop/start-host --code=\\\"4/0AX4XfWhLzd1DdSaWtiZQY43Ds0_baFUF7I43I6Bg6dO0zW3zuKzpz3bxsA2xHZ6f6HtlWg\\\" --redirect-url=\\\"https://remotedesktop.google.com/_/oauthredirect\\\" --name=$(hostname)\" #@param {type:\"string\"}\n",
        "\n",
        "#@markdown Enter a Pin (more or equal to 6 digits)\n",
        "Pin = 123456 #@param {type: \"integer\"}\n",
        "\n",
        "#@markdown Autostart Notebook in RDP\n",
        "Autostart = True #@param {type: \"boolean\"}\n",
        "\n",
        "\n",
        "def _get_gpu_name():\n",
        "  r = subprocess.run([\"nvidia-smi\", \"--query-gpu=name\", \"--format=csv,noheader\"], stdout = subprocess.PIPE, universal_newlines = True)\n",
        "  if r.returncode != 0:\n",
        "    return None\n",
        "  return r.stdout.strip()\n",
        "\n",
        "\n",
        "def _setup_nvidia_gl():\n",
        "  # Install TESLA DRIVER FOR LINUX X64.\n",
        "  # Kernel module in this driver is already loaded and cannot be neither removed nor updated.\n",
        "  # (nvidia, nvidia_uvm, nvidia_drm. See dmesg)\n",
        "  # Version number of nvidia driver for Xorg must match version number of these kernel module.\n",
        "  # But existing nvidia driver for Xorg might not match.\n",
        "  # So overwrite them with the nvidia driver that is same version to loaded kernel module.\n",
        "  ret = subprocess.run(\n",
        "                  [\"nvidia-smi\", \"--query-gpu=driver_version\", \"--format=csv,noheader\"],\n",
        "                  stdout = subprocess.PIPE,\n",
        "                  check = True,\n",
        "                  universal_newlines = True)\n",
        "  nvidia_version = ret.stdout.strip()\n",
        "  nvidia_url = \"https://us.download.nvidia.com/tesla/{0}/NVIDIA-Linux-x86_64-{0}.run\".format(nvidia_version)\n",
        "  _download(nvidia_url, \"nvidia.run\")\n",
        "  pathlib.Path(\"nvidia.run\").chmod(stat.S_IXUSR)\n",
        "  subprocess.run([\"./nvidia.run\", \"--no-kernel-module\", \"--ui=none\"], input = \"1\\n\", check = True, universal_newlines = True)\n",
        "\n",
        "  #https://virtualgl.org/Documentation/HeadlessNV\n",
        "  subprocess.run([\"nvidia-xconfig\",\n",
        "                  \"-a\",\n",
        "                  \"--allow-empty-initial-configuration\",\n",
        "                  \"--virtual=1920x1200\",\n",
        "                  \"--busid\", \"PCI:0:4:0\"],\n",
        "                 check = True\n",
        "                )\n",
        "\n",
        "  with open(\"/etc/X11/xorg.conf\", \"r\") as f:\n",
        "    conf = f.read()\n",
        "    conf = re.sub('(Section \"Device\".*?)(EndSection)',\n",
        "                  '\\\\1    MatchSeat      \"seat-1\"\\n\\\\2',\n",
        "                  conf,\n",
        "                  1,\n",
        "                  re.DOTALL)\n",
        "  #  conf = conf + \"\"\"\n",
        "  #Section \"Files\"\n",
        "  #    ModulePath \"/usr/lib/xorg/modules\"\n",
        "  #    ModulePath \"/usr/lib/x86_64-linux-gnu/nvidia-418/xorg/\"\n",
        "  #EndSection\n",
        "  #\"\"\"\n",
        "\n",
        "  with open(\"/etc/X11/xorg.conf\", \"w\") as f:\n",
        "    f.write(conf)\n",
        "\n",
        "  #!service lightdm stop\n",
        "  subprocess.run([\"/opt/VirtualGL/bin/vglserver_config\", \"-config\", \"+s\", \"+f\"], check = True)\n",
        "  #user_name = \"colab\"\n",
        "  #!usermod -a -G vglusers $user_name\n",
        "  #!service lightdm start\n",
        "\n",
        "  # Run Xorg server\n",
        "  # VirtualGL and OpenGL application require Xorg running with nvidia driver to get Hardware 3D Acceleration.\n",
        "  #\n",
        "  # Without \"-seat seat-1\" option, Xorg try to open /dev/tty0 but it doesn't exists.\n",
        "  # You can create /dev/tty0 with \"mknod /dev/tty0 c 4 0\" but you will get permision denied error.\n",
        "  subprocess.Popen([\"Xorg\", \"-seat\", \"seat-1\", \"-allowMouseOpenFail\", \"-novtswitch\", \"-nolisten\", \"tcp\"])\n",
        "\n",
        "\n",
        "\n",
        "\n",
        "gpu_name = _get_gpu_name()\n",
        "if gpu_name != None:\n",
        "  _setup_nvidia_gl()\n",
        "\n",
        "class CRD:\n",
        "    def __init__(self, user):\n",
        "        os.system(\"apt update\")\n",
        "        self.installCRD()\n",
        "        self.installDesktopEnvironment()\n",
        "        self.installGoogleChorme()\n",
        "        self.finish(user)\n",
        "        print(\"\\nRDP created succesfully move to https://remotedesktop.google.com/access\")\n",
        "    @staticmethod\n",
        "    def installCRD():\n",
        "        print(\"Installing Chrome Remote Desktop\")\n",
        "        subprocess.run(['wget', 'https://dl.google.com/linux/direct/chrome-remote-desktop_current_amd64.deb'], stdout=subprocess.PIPE)\n",
        "        subprocess.run(['dpkg', '--install', 'chrome-remote-desktop_current_amd64.deb'], stdout=subprocess.PIPE)\n",
        "        subprocess.run(['apt', 'install', '--assume-yes', '--fix-broken'], stdout=subprocess.PIPE)\n",
        "\n",
        "    @staticmethod\n",
        "    def installDesktopEnvironment():\n",
        "        print(\"Installing Desktop Environment\")\n",
        "        os.system(\"export DEBIAN_FRONTEND=noninteractive\")\n",
        "        os.system(\"apt install --assume-yes xfce4 desktop-base xfce4-terminal\")\n",
        "        os.system(\"bash -c 'echo \\\"exec /etc/X11/Xsession /usr/bin/xfce4-session\\\" > /etc/chrome-remote-desktop-session'\")\n",
        "        os.system(\"apt remove --assume-yes gnome-terminal\")\n",
        "        os.system(\"apt install --assume-yes xscreensaver\")\n",
        "        os.system(\"systemctl disable lightdm.service\")\n",
        "\n",
        "    @staticmethod\n",
        "    def installGoogleChorme():\n",
        "        print(\"Installing Google Chrome\")\n",
        "        subprocess.run([\"wget\", \"https://dl.google.com/linux/direct/google-chrome-stable_current_amd64.deb\"], stdout=subprocess.PIPE)\n",
        "        subprocess.run([\"dpkg\", \"--install\", \"google-chrome-stable_current_amd64.deb\"], stdout=subprocess.PIPE)\n",
        "        subprocess.run(['apt', 'install', '--assume-yes', '--fix-broken'], stdout=subprocess.PIPE)\n",
        "    @staticmethod\n",
        "    def finish(user):\n",
        "        print(\"Finalizing\")\n",
        "        if Autostart:\n",
        "            os.makedirs(f\"/home/{user}/.config/autostart\", exist_ok=True)\n",
        "            link = \"https://colab.research.google.com/drive/1dJYKi8ZgfZcAdOwL8jJ0Ytx6RJTwFIU7#scrollTo=AOlFn7dqLOSB\"\n",
        "            colab_autostart = \"\"\"[Desktop Entry]\n",
        "Type=Application\n",
        "Name=Colab\n",
        "Exec=sh -c \"sensible-browser {}\"\n",
        "Icon=\n",
        "Comment=Open a predefined notebook at session signin.\n",
        "X-GNOME-Autostart-enabled=true\"\"\".format(link)\n",
        "            with open(f\"/home/{user}/.config/autostart/colab.desktop\", \"w\") as f:\n",
        "                f.write(colab_autostart)\n",
        "            os.system(f\"chmod +x /home/{user}/.config/autostart/colab.desktop\")\n",
        "            os.system(f\"chown {user}:{user} /home/{user}/.config\")\n",
        "\n",
        "        os.system(f\"adduser {user} chrome-remote-desktop\")\n",
        "        command = f\"{CRP} --pin={Pin}\"\n",
        "        os.system(f\"su - {user} -c '{command}'\")\n",
        "        os.system(\"service chrome-remote-desktop start\")\n",
        "        \n",
        "\n",
        "        print(\"Finished Succesfully\")\n",
        "\n",
        "\n",
        "try:\n",
        "    if CRP == \"\":\n",
        "        print(\"Please enter authcode from the given link\")\n",
        "    elif len(str(Pin)) < 6:\n",
        "        print(\"Enter a pin more or equal to 6 digits\")\n",
        "    else:\n",
        "        CRD(username)\n",
        "except NameError as e:\n",
        "    print(\"'username' variable not found, Create a user first\")\n",
        "    \n",
        "    \n",
        "    \n",
        "    "
      ],
      "metadata": {
        "colab": {
          "base_uri": "https://localhost:8080/"
        },
        "id": "AOlFn7dqLOSB",
        "outputId": "3c8c0322-e51a-487e-85dd-f0c8971c9023"
      },
      "execution_count": null,
      "outputs": [
        {
          "output_type": "stream",
          "name": "stdout",
          "text": [
            "Installing Chrome Remote Desktop\n",
            "Installing Desktop Environment\n",
            "Installing Google Chrome\n",
            "Finalizing\n",
            "Finished Succesfully\n",
            "\n",
            "RDP created succesfully move to https://remotedesktop.google.com/access\n"
          ]
        }
      ]
    }
  ]
}